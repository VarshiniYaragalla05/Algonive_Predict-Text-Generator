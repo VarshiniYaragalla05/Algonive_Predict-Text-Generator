{
  "nbformat": 4,
  "nbformat_minor": 0,
  "metadata": {
    "colab": {
      "provenance": []
    },
    "kernelspec": {
      "name": "python3",
      "display_name": "Python 3"
    },
    "language_info": {
      "name": "python"
    }
  },
  "cells": [
    {
      "cell_type": "code",
      "source": [
        "from collections import defaultdict, Counter"
      ],
      "metadata": {
        "id": "AcY6xh2MlFtt"
      },
      "execution_count": 10,
      "outputs": []
    },
    {
      "cell_type": "code",
      "source": [
        "# === STEP 1: Sample training text ===\n",
        "training_text = \"\"\"\n",
        "I like to eat pizza. I like to play games. She loves to eat pasta.\n",
        "They love to play music. We want to eat sushi. I want to go home.\n",
        "She wants to eat salad. He likes to watch movies. I like coding.\n",
        "\"\"\""
      ],
      "metadata": {
        "id": "d9zZT7nMlIb4"
      },
      "execution_count": 11,
      "outputs": []
    },
    {
      "cell_type": "code",
      "source": [
        "# === STEP 2: Build n-gram models ===\n",
        "unigram = Counter()\n",
        "bigram = defaultdict(Counter)\n",
        "trigram = defaultdict(Counter)\n",
        "# Clean and tokenize\n",
        "words = training_text.lower().split()\n",
        "# Fill models\n",
        "for i in range(len(words)):\n",
        "    unigram[words[i]] += 1\n",
        "    if i < len(words) - 1:\n",
        "        bigram[words[i]][words[i+1]] += 1\n",
        "    if i < len(words) - 2:\n",
        "        trigram[(words[i], words[i+1])][words[i+2]] += 1"
      ],
      "metadata": {
        "id": "g58ejRlblJeQ"
      },
      "execution_count": 12,
      "outputs": []
    },
    {
      "cell_type": "code",
      "source": [
        "# === STEP 3: Prediction Logic ===\n",
        "def predict_next_word(input_text):\n",
        "    tokens = input_text.lower().split()\n",
        "    if len(tokens) >= 2:\n",
        "        key = (tokens[-2], tokens[-1])\n",
        "        if key in trigram:\n",
        "            return trigram[key].most_common(1)[0][0]\n",
        "    if len(tokens) >= 1:\n",
        "        key = tokens[-1]\n",
        "        if key in bigram:\n",
        "            return bigram[key].most_common(1)[0][0]\n",
        "    if unigram:\n",
        "        return unigram.most_common(1)[0][0]\n",
        "    return \"<no prediction>\""
      ],
      "metadata": {
        "id": "Cob8XUpFlOJb"
      },
      "execution_count": 13,
      "outputs": []
    },
    {
      "cell_type": "code",
      "source": [
        "# === STEP 4: User Input Loop ===\n",
        "print(\"=== Predictive Text Generator ===\")\n",
        "while True:\n",
        "    user_input = input(\"\\nType your sentence or a few words: \").strip()\n",
        "    if user_input.lower() == \"exit\":\n",
        "        break\n",
        "    if not user_input:\n",
        "        print(\"❗ Please type something.\")\n",
        "        continue\n",
        "    prediction = predict_next_word(user_input)\n",
        "    print(\"Predicted next word:\", prediction)"
      ],
      "metadata": {
        "colab": {
          "base_uri": "https://localhost:8080/"
        },
        "id": "0wEdKPknlQqF",
        "outputId": "fe7b8546-e988-4562-e01d-2d0ea7593f9f"
      },
      "execution_count": 14,
      "outputs": [
        {
          "name": "stdout",
          "output_type": "stream",
          "text": [
            "=== Predictive Text Generator (Type 'exit' to quit) ===\n",
            "\n",
            "Type your sentence or a few words: i\n",
            "Predicted next word: like\n",
            "\n",
            "Type your sentence or a few words: i want\n",
            "Predicted next word: to\n",
            "\n",
            "Type your sentence or a few words: i want to eat\n",
            "Predicted next word: pizza.\n",
            "\n",
            "Type your sentence or a few words: exxit\n",
            "Predicted next word: to\n",
            "\n",
            "Type your sentence or a few words: exit\n"
          ]
        }
      ]
    }
  ]
}